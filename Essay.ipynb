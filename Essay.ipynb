{
 "cells": [
  {
   "cell_type": "markdown",
   "id": "22ca4805-4acd-471a-a764-53f4377f640a",
   "metadata": {},
   "source": [
    "# 0.0 Imports"
   ]
  },
  {
   "cell_type": "code",
   "execution_count": 1,
   "id": "0747c369-5dd4-4e4f-b171-0e6e76da7656",
   "metadata": {
    "tags": []
   },
   "outputs": [],
   "source": [
    "import pandas as pd\n",
    "from sklearn.neighbors import KNeighborsClassifier\n",
    "from sklearn.metrics import confusion_matrix\n",
    "from sklearn import metrics as mt\n",
    "from sklearn.model_selection import train_test_split\n",
    "import warnings\n"
   ]
  },
  {
   "cell_type": "markdown",
   "id": "db0b363e-f9c6-453a-8cfd-f2ee71928c9a",
   "metadata": {},
   "source": [
    "# 1.0 Datasets"
   ]
  },
  {
   "cell_type": "code",
   "execution_count": 2,
   "id": "466eaa78-7cff-4f30-8ca6-3b6e5de73953",
   "metadata": {
    "tags": []
   },
   "outputs": [],
   "source": [
    "X_training = pd.read_csv('datasets/Classification/X_training.csv')\n",
    "y_training = pd.read_csv('datasets/Classification/y_training.csv')\n",
    "X_test = pd.read_csv('datasets/Classification/X_test.csv')\n",
    "y_test = pd.read_csv('datasets/Classification/y_test.csv')\n",
    "X_validation = pd.read_csv('datasets/Classification/X_validation.csv')\n",
    "y_validation = pd.read_csv('datasets/Classification/y_validation.csv')\n",
    "warnings.filterwarnings(\"ignore\", category=UserWarning)"
   ]
  },
  {
   "cell_type": "code",
   "execution_count": 3,
   "id": "1489a8a1-178f-438f-b61a-2192694c6a07",
   "metadata": {
    "tags": []
   },
   "outputs": [
    {
     "data": {
      "text/plain": [
       "(72515, 1)"
      ]
     },
     "execution_count": 3,
     "metadata": {},
     "output_type": "execute_result"
    }
   ],
   "source": [
    "y_training.shape"
   ]
  },
  {
   "cell_type": "code",
   "execution_count": 4,
   "id": "5c150f34-7ae7-4a0f-87e4-253a9ab357d7",
   "metadata": {
    "tags": []
   },
   "outputs": [
    {
     "data": {
      "text/plain": [
       "(31079, 25)"
      ]
     },
     "execution_count": 4,
     "metadata": {},
     "output_type": "execute_result"
    }
   ],
   "source": [
    "X_validation.shape"
   ]
  },
  {
   "cell_type": "code",
   "execution_count": 5,
   "id": "9b822845-acab-4267-bf76-1f4e10b023a8",
   "metadata": {
    "tags": []
   },
   "outputs": [],
   "source": [
    "y_training = y_training.values.ravel()\n",
    "y_test = y_test.values.ravel()\n",
    "y_validation = y_validation.values.ravel()"
   ]
  },
  {
   "cell_type": "markdown",
   "id": "8e5b3704-ce3a-407e-a727-bb976a878fbc",
   "metadata": {
    "tags": []
   },
   "source": [
    "# 2.0 - KNN Classifier"
   ]
  },
  {
   "cell_type": "code",
   "execution_count": 6,
   "id": "a304a477-1832-4f48-9f80-b796f0042d61",
   "metadata": {
    "tags": []
   },
   "outputs": [],
   "source": [
    "# Model definition \n",
    "KNN = KNeighborsClassifier(n_neighbors=3)\n",
    "\n",
    "# Model training\n",
    "KNN.fit(X_training, y_training)\n",
    "\n",
    "# Model performance\n",
    "predictions = KNN.predict(X_test.values)"
   ]
  },
  {
   "cell_type": "code",
   "execution_count": 7,
   "id": "753be31a-61b0-4a0c-a563-ba1d3fb3349e",
   "metadata": {},
   "outputs": [
    {
     "data": {
      "text/plain": [
       "(25893,)"
      ]
     },
     "execution_count": 7,
     "metadata": {},
     "output_type": "execute_result"
    }
   ],
   "source": [
    "predictions.shape"
   ]
  },
  {
   "cell_type": "code",
   "execution_count": 8,
   "id": "bab53eb3-e128-4d9d-868c-572557810c86",
   "metadata": {},
   "outputs": [
    {
     "data": {
      "text/plain": [
       "0.6722280152937087"
      ]
     },
     "execution_count": 8,
     "metadata": {},
     "output_type": "execute_result"
    }
   ],
   "source": [
    "mt.accuracy_score(y_test, predictions)"
   ]
  },
  {
   "cell_type": "code",
   "execution_count": null,
   "id": "fb78cb49-9133-405d-8c88-81f8680f97ab",
   "metadata": {},
   "outputs": [],
   "source": []
  }
 ],
 "metadata": {
  "kernelspec": {
   "display_name": "Python 3 (ipykernel)",
   "language": "python",
   "name": "python3"
  },
  "language_info": {
   "codemirror_mode": {
    "name": "ipython",
    "version": 3
   },
   "file_extension": ".py",
   "mimetype": "text/x-python",
   "name": "python",
   "nbconvert_exporter": "python",
   "pygments_lexer": "ipython3",
   "version": "3.11.5"
  }
 },
 "nbformat": 4,
 "nbformat_minor": 5
}
