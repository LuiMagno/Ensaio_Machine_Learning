{
 "cells": [
  {
   "cell_type": "markdown",
   "id": "10eaf8a4-ced6-4203-ab3e-00d419a72f8c",
   "metadata": {
    "jp-MarkdownHeadingCollapsed": true,
    "tags": []
   },
   "source": [
    "# 0.0 Importando Bibliotecas"
   ]
  },
  {
   "cell_type": "code",
   "execution_count": 2,
   "id": "cc35f497-9df7-451e-93ad-393ccf43b724",
   "metadata": {
    "tags": []
   },
   "outputs": [],
   "source": [
    "import numpy  as np\n",
    "import pandas as pd\n",
    "import matplotlib.pyplot as plt\n",
    "\n",
    "from sklearn.neighbors   import KNeighborsClassifier"
   ]
  },
  {
   "cell_type": "markdown",
   "id": "e8a9ee5a-d9a5-446e-b224-fdcd180142e3",
   "metadata": {
    "jp-MarkdownHeadingCollapsed": true,
    "tags": []
   },
   "source": [
    "# 0.2 Loading Datasets"
   ]
  },
  {
   "cell_type": "code",
   "execution_count": 28,
   "id": "74d467a9-8d54-4806-b273-70660aee5324",
   "metadata": {
    "tags": []
   },
   "outputs": [],
   "source": [
    "X_train = pd.read_csv('../datasets/Classification/X_training.csv')\n",
    "X_test = pd.read_csv('../datasets/Classification/X_test.csv')\n",
    "X_val = pd.read_csv('../datasets/Classification/X_validation.csv')\n",
    "\n",
    "y_train = pd.read_csv('../datasets/Classification/y_training.csv').values\n",
    "y_test = pd.read_csv('../datasets/Classification/y_test.csv').values\n",
    "y_val = pd.read_csv('../datasets/Classification/y_validation.csv').values"
   ]
  },
  {
   "cell_type": "code",
   "execution_count": 29,
   "id": "3b2eba20-f0f9-4186-b623-b6030b7d9763",
   "metadata": {
    "tags": []
   },
   "outputs": [
    {
     "data": {
      "text/html": [
       "<div>\n",
       "<style scoped>\n",
       "    .dataframe tbody tr th:only-of-type {\n",
       "        vertical-align: middle;\n",
       "    }\n",
       "\n",
       "    .dataframe tbody tr th {\n",
       "        vertical-align: top;\n",
       "    }\n",
       "\n",
       "    .dataframe thead th {\n",
       "        text-align: right;\n",
       "    }\n",
       "</style>\n",
       "<table border=\"1\" class=\"dataframe\">\n",
       "  <thead>\n",
       "    <tr style=\"text-align: right;\">\n",
       "      <th></th>\n",
       "      <th>id</th>\n",
       "      <th>customer_type</th>\n",
       "      <th>age</th>\n",
       "      <th>class</th>\n",
       "      <th>flight_distance</th>\n",
       "      <th>inflight_wifi_service</th>\n",
       "      <th>departure_arrival_time_convenient</th>\n",
       "      <th>ease_of_online_booking</th>\n",
       "      <th>gate_location</th>\n",
       "      <th>food_and_drink</th>\n",
       "      <th>...</th>\n",
       "      <th>baggage_handling</th>\n",
       "      <th>checkin_service</th>\n",
       "      <th>inflight_service</th>\n",
       "      <th>cleanliness</th>\n",
       "      <th>departure_delay_in_minutes</th>\n",
       "      <th>arrival_delay_in_minutes</th>\n",
       "      <th>gender_Female</th>\n",
       "      <th>gender_Male</th>\n",
       "      <th>type_of_travel_business_travel</th>\n",
       "      <th>type_of_travel_personal_travel</th>\n",
       "    </tr>\n",
       "  </thead>\n",
       "  <tbody>\n",
       "    <tr>\n",
       "      <th>0</th>\n",
       "      <td>13508</td>\n",
       "      <td>1</td>\n",
       "      <td>0.500000</td>\n",
       "      <td>0.0</td>\n",
       "      <td>0.039580</td>\n",
       "      <td>0.6</td>\n",
       "      <td>0.6</td>\n",
       "      <td>0.6</td>\n",
       "      <td>0.6</td>\n",
       "      <td>1.0</td>\n",
       "      <td>...</td>\n",
       "      <td>0.5</td>\n",
       "      <td>1.00</td>\n",
       "      <td>0.6</td>\n",
       "      <td>0.4</td>\n",
       "      <td>0.000000</td>\n",
       "      <td>0.013848</td>\n",
       "      <td>1.0</td>\n",
       "      <td>0.0</td>\n",
       "      <td>1.0</td>\n",
       "      <td>0.0</td>\n",
       "    </tr>\n",
       "    <tr>\n",
       "      <th>1</th>\n",
       "      <td>28874</td>\n",
       "      <td>1</td>\n",
       "      <td>0.243590</td>\n",
       "      <td>0.0</td>\n",
       "      <td>0.205775</td>\n",
       "      <td>0.6</td>\n",
       "      <td>0.4</td>\n",
       "      <td>0.4</td>\n",
       "      <td>0.4</td>\n",
       "      <td>0.6</td>\n",
       "      <td>...</td>\n",
       "      <td>0.5</td>\n",
       "      <td>0.50</td>\n",
       "      <td>0.2</td>\n",
       "      <td>0.6</td>\n",
       "      <td>0.000000</td>\n",
       "      <td>0.000000</td>\n",
       "      <td>0.0</td>\n",
       "      <td>1.0</td>\n",
       "      <td>1.0</td>\n",
       "      <td>0.0</td>\n",
       "    </tr>\n",
       "    <tr>\n",
       "      <th>2</th>\n",
       "      <td>21484</td>\n",
       "      <td>0</td>\n",
       "      <td>0.435897</td>\n",
       "      <td>1.0</td>\n",
       "      <td>0.026858</td>\n",
       "      <td>0.6</td>\n",
       "      <td>0.6</td>\n",
       "      <td>0.6</td>\n",
       "      <td>0.2</td>\n",
       "      <td>1.0</td>\n",
       "      <td>...</td>\n",
       "      <td>0.0</td>\n",
       "      <td>1.00</td>\n",
       "      <td>0.6</td>\n",
       "      <td>1.0</td>\n",
       "      <td>0.000000</td>\n",
       "      <td>0.000000</td>\n",
       "      <td>1.0</td>\n",
       "      <td>0.0</td>\n",
       "      <td>1.0</td>\n",
       "      <td>0.0</td>\n",
       "    </tr>\n",
       "    <tr>\n",
       "      <th>3</th>\n",
       "      <td>48280</td>\n",
       "      <td>1</td>\n",
       "      <td>0.589744</td>\n",
       "      <td>0.5</td>\n",
       "      <td>0.041397</td>\n",
       "      <td>0.6</td>\n",
       "      <td>1.0</td>\n",
       "      <td>0.6</td>\n",
       "      <td>0.6</td>\n",
       "      <td>0.8</td>\n",
       "      <td>...</td>\n",
       "      <td>0.0</td>\n",
       "      <td>1.00</td>\n",
       "      <td>0.4</td>\n",
       "      <td>0.4</td>\n",
       "      <td>0.029499</td>\n",
       "      <td>0.020772</td>\n",
       "      <td>1.0</td>\n",
       "      <td>0.0</td>\n",
       "      <td>0.0</td>\n",
       "      <td>1.0</td>\n",
       "    </tr>\n",
       "    <tr>\n",
       "      <th>4</th>\n",
       "      <td>472</td>\n",
       "      <td>0</td>\n",
       "      <td>0.423077</td>\n",
       "      <td>1.0</td>\n",
       "      <td>0.016559</td>\n",
       "      <td>0.2</td>\n",
       "      <td>0.2</td>\n",
       "      <td>0.2</td>\n",
       "      <td>0.8</td>\n",
       "      <td>0.6</td>\n",
       "      <td>...</td>\n",
       "      <td>1.0</td>\n",
       "      <td>0.75</td>\n",
       "      <td>0.8</td>\n",
       "      <td>0.6</td>\n",
       "      <td>0.021632</td>\n",
       "      <td>0.019782</td>\n",
       "      <td>0.0</td>\n",
       "      <td>1.0</td>\n",
       "      <td>1.0</td>\n",
       "      <td>0.0</td>\n",
       "    </tr>\n",
       "  </tbody>\n",
       "</table>\n",
       "<p>5 rows × 25 columns</p>\n",
       "</div>"
      ],
      "text/plain": [
       "      id  customer_type       age  class  flight_distance  \\\n",
       "0  13508              1  0.500000    0.0         0.039580   \n",
       "1  28874              1  0.243590    0.0         0.205775   \n",
       "2  21484              0  0.435897    1.0         0.026858   \n",
       "3  48280              1  0.589744    0.5         0.041397   \n",
       "4    472              0  0.423077    1.0         0.016559   \n",
       "\n",
       "   inflight_wifi_service  departure_arrival_time_convenient  \\\n",
       "0                    0.6                                0.6   \n",
       "1                    0.6                                0.4   \n",
       "2                    0.6                                0.6   \n",
       "3                    0.6                                1.0   \n",
       "4                    0.2                                0.2   \n",
       "\n",
       "   ease_of_online_booking  gate_location  food_and_drink  ...  \\\n",
       "0                     0.6            0.6             1.0  ...   \n",
       "1                     0.4            0.4             0.6  ...   \n",
       "2                     0.6            0.2             1.0  ...   \n",
       "3                     0.6            0.6             0.8  ...   \n",
       "4                     0.2            0.8             0.6  ...   \n",
       "\n",
       "   baggage_handling  checkin_service  inflight_service  cleanliness  \\\n",
       "0               0.5             1.00               0.6          0.4   \n",
       "1               0.5             0.50               0.2          0.6   \n",
       "2               0.0             1.00               0.6          1.0   \n",
       "3               0.0             1.00               0.4          0.4   \n",
       "4               1.0             0.75               0.8          0.6   \n",
       "\n",
       "   departure_delay_in_minutes  arrival_delay_in_minutes  gender_Female  \\\n",
       "0                    0.000000                  0.013848            1.0   \n",
       "1                    0.000000                  0.000000            0.0   \n",
       "2                    0.000000                  0.000000            1.0   \n",
       "3                    0.029499                  0.020772            1.0   \n",
       "4                    0.021632                  0.019782            0.0   \n",
       "\n",
       "   gender_Male  type_of_travel_business_travel  type_of_travel_personal_travel  \n",
       "0          0.0                             1.0                             0.0  \n",
       "1          1.0                             1.0                             0.0  \n",
       "2          0.0                             1.0                             0.0  \n",
       "3          0.0                             0.0                             1.0  \n",
       "4          1.0                             1.0                             0.0  \n",
       "\n",
       "[5 rows x 25 columns]"
      ]
     },
     "execution_count": 29,
     "metadata": {},
     "output_type": "execute_result"
    }
   ],
   "source": [
    "X_train.head()"
   ]
  },
  {
   "cell_type": "code",
   "execution_count": 30,
   "id": "a8c28414-4732-4128-b1d8-d80f27d75af3",
   "metadata": {
    "tags": []
   },
   "outputs": [
    {
     "data": {
      "text/plain": [
       "(72515, 25)"
      ]
     },
     "execution_count": 30,
     "metadata": {},
     "output_type": "execute_result"
    }
   ],
   "source": [
    "X_train.shape"
   ]
  },
  {
   "cell_type": "markdown",
   "id": "6d93aa52-858d-4319-90a0-ad0e88e35261",
   "metadata": {
    "jp-MarkdownHeadingCollapsed": true,
    "tags": []
   },
   "source": [
    "# 0.3 Análise do Dataset"
   ]
  },
  {
   "cell_type": "markdown",
   "id": "31e160d7-d167-4458-b7e9-f2b1301abd08",
   "metadata": {
    "tags": []
   },
   "source": [
    "###  Recebemos os vdados resposta como um array com N linhas e 1 coluna, mas para aplicarmos os algoritmos, precisamos mudar o formato utilizando a função .ravel()"
   ]
  },
  {
   "cell_type": "code",
   "execution_count": 31,
   "id": "bb61f346-5c80-44b8-8ff9-d6000a0d5db2",
   "metadata": {
    "tags": []
   },
   "outputs": [],
   "source": [
    "# Recebemos os vdados resposta como um array com N linhas e 1 coluna, mas para aplicarmos os algoritmos, precisamos mudar o formato utilizando a função .ravel()\n",
    "y_train = y_train.ravel()\n",
    "y_test = y_test.ravel()\n",
    "y_val = y_val.ravel()"
   ]
  },
  {
   "cell_type": "code",
   "execution_count": 32,
   "id": "b6639fca-0c68-4927-8548-d0698b31b85e",
   "metadata": {
    "tags": []
   },
   "outputs": [
    {
     "data": {
      "text/plain": [
       "array([1, 0, 1, ..., 0, 0, 1], dtype=int64)"
      ]
     },
     "execution_count": 32,
     "metadata": {},
     "output_type": "execute_result"
    }
   ],
   "source": [
    "y_val"
   ]
  },
  {
   "cell_type": "markdown",
   "id": "4141821d-7301-477f-b0df-42831ede9c5b",
   "metadata": {},
   "source": [
    "### Agora vamos analisar como os dados se comportam antes de podermos aplicar o algoritmo de Machine Learning"
   ]
  },
  {
   "cell_type": "code",
   "execution_count": 35,
   "id": "a0aea717-f2d9-48d3-bb74-911871e4108e",
   "metadata": {
    "tags": []
   },
   "outputs": [
    {
     "data": {
      "text/plain": [
       "id                                     int64\n",
       "customer_type                          int64\n",
       "age                                  float64\n",
       "class                                float64\n",
       "flight_distance                      float64\n",
       "inflight_wifi_service                float64\n",
       "departure_arrival_time_convenient    float64\n",
       "ease_of_online_booking               float64\n",
       "gate_location                        float64\n",
       "food_and_drink                       float64\n",
       "online_boarding                      float64\n",
       "seat_comfort                         float64\n",
       "inflight_entertainment               float64\n",
       "on_board_service                     float64\n",
       "leg_room_service                     float64\n",
       "baggage_handling                     float64\n",
       "checkin_service                      float64\n",
       "inflight_service                     float64\n",
       "cleanliness                          float64\n",
       "departure_delay_in_minutes           float64\n",
       "arrival_delay_in_minutes             float64\n",
       "gender_Female                        float64\n",
       "gender_Male                          float64\n",
       "type_of_travel_business_travel       float64\n",
       "type_of_travel_personal_travel       float64\n",
       "dtype: object"
      ]
     },
     "execution_count": 35,
     "metadata": {},
     "output_type": "execute_result"
    }
   ],
   "source": [
    "X_train.dtypes"
   ]
  },
  {
   "cell_type": "markdown",
   "id": "416cd621-4a7e-4bbc-b35a-a1d406002a79",
   "metadata": {},
   "source": [
    "### Temos que retirar o Id, pois ele não é uma variável categórica e não irá nos ajudar na hora de aplicar os algoritmos"
   ]
  },
  {
   "cell_type": "code",
   "execution_count": 36,
   "id": "272d8301-9a92-4577-851a-e84c3b21c5d3",
   "metadata": {
    "tags": []
   },
   "outputs": [],
   "source": [
    "X_train = X_train.drop(['id'], axis=1).values"
   ]
  },
  {
   "cell_type": "markdown",
   "id": "9de8d6a1-db31-45ae-b61d-575e7daeae7e",
   "metadata": {
    "tags": []
   },
   "source": [
    "# 1.0 Algoritmos"
   ]
  },
  {
   "cell_type": "markdown",
   "id": "af6a89c7-cc96-4276-9411-df3fe88bae6a",
   "metadata": {},
   "source": [
    "### Vamos fazer as tabelas em Python para cada um de nossos algoritmos, começando pelo KNN."
   ]
  },
  {
   "cell_type": "code",
   "execution_count": 42,
   "id": "217ee824-6c9c-4fab-8c81-84c3207e89bb",
   "metadata": {
    "tags": []
   },
   "outputs": [],
   "source": [
    "classification_columns = ['Accuracy', 'Precision', 'Recall', 'F1-Score']\n",
    "\n",
    "train_metrics = pd.DataFrame(columns=classification_columns)\n",
    "test_metrics = pd.DataFrame(columns=classification_columns)\n",
    "val_metrics = pd.DataFrame(columns=classification_columns)"
   ]
  },
  {
   "cell_type": "code",
   "execution_count": 43,
   "id": "2b50662d-4baa-4ffd-a1e5-b220c4bc7b58",
   "metadata": {
    "tags": []
   },
   "outputs": [
    {
     "data": {
      "text/html": [
       "<div>\n",
       "<style scoped>\n",
       "    .dataframe tbody tr th:only-of-type {\n",
       "        vertical-align: middle;\n",
       "    }\n",
       "\n",
       "    .dataframe tbody tr th {\n",
       "        vertical-align: top;\n",
       "    }\n",
       "\n",
       "    .dataframe thead th {\n",
       "        text-align: right;\n",
       "    }\n",
       "</style>\n",
       "<table border=\"1\" class=\"dataframe\">\n",
       "  <thead>\n",
       "    <tr style=\"text-align: right;\">\n",
       "      <th></th>\n",
       "      <th>Accuracy</th>\n",
       "      <th>Precision</th>\n",
       "      <th>Recall</th>\n",
       "      <th>F1-Score</th>\n",
       "    </tr>\n",
       "  </thead>\n",
       "  <tbody>\n",
       "  </tbody>\n",
       "</table>\n",
       "</div>"
      ],
      "text/plain": [
       "Empty DataFrame\n",
       "Columns: [Accuracy, Precision, Recall, F1-Score]\n",
       "Index: []"
      ]
     },
     "execution_count": 43,
     "metadata": {},
     "output_type": "execute_result"
    }
   ],
   "source": [
    "train_metrics"
   ]
  },
  {
   "cell_type": "markdown",
   "id": "600e0178-131f-4af1-babb-5260b3c4b75f",
   "metadata": {},
   "source": [
    "## Mas o que são essas métricas? "
   ]
  },
  {
   "cell_type": "markdown",
   "id": "64f23069-0127-42ac-b886-24775b7cc15e",
   "metadata": {},
   "source": [
    "### Matriz de Confusão"
   ]
  },
  {
   "cell_type": "markdown",
   "id": "0588e8ff-b0c7-4486-a3f3-25361639abcb",
   "metadata": {},
   "source": [
    "|               | Valores Previstos   |                     |   |\n",
    "|---------------|---------------------|---------------------|---|\n",
    "|               | Classe Positiva (P) | Classe Negativa (N) |   |\n",
    "| Valores Reais | True Positive (TP)  | False Negative (FN) |   |\n",
    "|               | False Positive (FP) | True Negative (TN)  |   |\n",
    "\n",
    "\n",
    "Acurácia: $$TP + TN \\over TP + FP + FN + TN$$\n",
    "\n",
    "\n",
    "Precisão:$$ TP \\over TP + FP$$\n",
    "\n",
    "\n",
    "Recall: $$ TP \\over TP + FN $$\n",
    "\n",
    "\n",
    "F1-Score: $$2 ((precision * recall) \\over (precision + recall)) $$"
   ]
  },
  {
   "cell_type": "markdown",
   "id": "6298a4ac-0656-4c62-aed3-7e20ae3752d8",
   "metadata": {},
   "source": [
    "# KNN - K-Nearest Neighbors"
   ]
  },
  {
   "cell_type": "markdown",
   "id": "51ab2bfe-3b80-4c42-a2a4-4f019e30356f",
   "metadata": {},
   "source": [
    "KNN é ditos por muitos como o algoritmo de Machine Learning mais simples. É utilizado tanto para Classificação quanto para Regressão. Para fazer uma previsão para um novo ponto, o algoritmo calcula a distância desse novo ponto para os outros e assim acha os pontos mais próximos,assim sendo chamado de \"vizinhos mais próximos\"."
   ]
  },
  {
   "cell_type": "markdown",
   "id": "ae876507-3191-4209-9c72-71d36f0c40a4",
   "metadata": {},
   "source": [
    "#### Os parâmetros do ensaio para a Otimização do KNN : n-neighbors. Ou seja, temos que achar os N vizinhos mais próximos que deixem o algoritmo o mais otimizado possível."
   ]
  },
  {
   "cell_type": "code",
   "execution_count": null,
   "id": "1037c6e3-8271-41a7-846f-2138dc4c6b1b",
   "metadata": {},
   "outputs": [],
   "source": [
    "# Aqui é a criação de uma função que testa todos os n-neighbors para saber qual valor tem a maior acurácia.\n",
    "def knn_tunning(X_train, y_train):\n",
    "    "
   ]
  }
 ],
 "metadata": {
  "kernelspec": {
   "display_name": "Python 3 (ipykernel)",
   "language": "python",
   "name": "python3"
  },
  "language_info": {
   "codemirror_mode": {
    "name": "ipython",
    "version": 3
   },
   "file_extension": ".py",
   "mimetype": "text/x-python",
   "name": "python",
   "nbconvert_exporter": "python",
   "pygments_lexer": "ipython3",
   "version": "3.11.5"
  }
 },
 "nbformat": 4,
 "nbformat_minor": 5
}
