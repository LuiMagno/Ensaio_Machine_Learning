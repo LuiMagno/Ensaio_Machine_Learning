{
 "cells": [
  {
   "cell_type": "markdown",
   "id": "10eaf8a4-ced6-4203-ab3e-00d419a72f8c",
   "metadata": {},
   "source": [
    "# 0.0 Imports"
   ]
  },
  {
   "cell_type": "code",
   "execution_count": 2,
   "id": "cc35f497-9df7-451e-93ad-393ccf43b724",
   "metadata": {
    "tags": []
   },
   "outputs": [],
   "source": [
    "import numpy  as np\n",
    "import pandas as pd\n",
    "import matplotlib.pyplot as plt\n",
    "\n",
    "from sklearn.neighbors   import KNeighborsClassifier"
   ]
  },
  {
   "cell_type": "markdown",
   "id": "e8a9ee5a-d9a5-446e-b224-fdcd180142e3",
   "metadata": {},
   "source": [
    "# 0.2 Loading Datasets"
   ]
  },
  {
   "cell_type": "code",
   "execution_count": null,
   "id": "74d467a9-8d54-4806-b273-70660aee5324",
   "metadata": {},
   "outputs": [],
   "source": []
  }
 ],
 "metadata": {
  "kernelspec": {
   "display_name": "Python 3 (ipykernel)",
   "language": "python",
   "name": "python3"
  },
  "language_info": {
   "codemirror_mode": {
    "name": "ipython",
    "version": 3
   },
   "file_extension": ".py",
   "mimetype": "text/x-python",
   "name": "python",
   "nbconvert_exporter": "python",
   "pygments_lexer": "ipython3",
   "version": "3.11.5"
  }
 },
 "nbformat": 4,
 "nbformat_minor": 5
}
